{
 "cells": [
  {
   "cell_type": "code",
   "execution_count": null,
   "metadata": {},
   "outputs": [],
   "source": [
    "# 1.1 Write a Python Program(with class concepts) to find the area of the triangle using the below formula.\n",
    "# area = (s*(s-a)*(s-b)*(s-c)) ** 0.5\n",
    "# Function to take the length of the sides of triangle from user should be defined in the parent\n",
    "# class and function to calculate the area should be defined in subclass."
   ]
  },
  {
   "cell_type": "code",
   "execution_count": 37,
   "metadata": {},
   "outputs": [],
   "source": [
    "class mytriangle:\n",
    "        def __init__(self,a,b,c):\n",
    "         self.a1=a\n",
    "         self.b1=b\n",
    "         self.c1=c\n",
    "        def input(self):\n",
    "         self.a1=int(input(\"Enter side1:\"))\n",
    "         self.b1=int(input(\"Enter side2:\"))\n",
    "         self.c1=int(input(\"Enter side3:\"))\n",
    "class myarea(mytriangle):\n",
    "        #def __init__(self,a,b,c):\n",
    "         #mytriangle.__init__(self,a,b,c)\n",
    "         #super(myarea,self).__init__(*args)\n",
    "        def __init__(self):\n",
    "         mytriangle.input(self)   \n",
    "        def findarea(self):\n",
    "         a1,b1,c1=self.a1,self.b1,self.c1\n",
    "         s=(a1+b1+c1)/2\n",
    "         area=(s*(s-a1)*(s-b1)*(s-c1))**0.5\n",
    "         print('area is %0.2f'%area)"
   ]
  },
  {
   "cell_type": "code",
   "execution_count": 40,
   "metadata": {},
   "outputs": [
    {
     "name": "stdout",
     "output_type": "stream",
     "text": [
      "Enter side1:4\n",
      "Enter side2:5\n",
      "Enter side3:6\n",
      "area is 9.92\n"
     ]
    }
   ],
   "source": [
    "x=myarea()\n",
    "x.findarea()"
   ]
  },
  {
   "cell_type": "code",
   "execution_count": null,
   "metadata": {},
   "outputs": [],
   "source": [
    "# 1.2 Write a function filter_long_words() that takes a list of words and an integer n and returns\n",
    "# the list of words that are longer than n."
   ]
  },
  {
   "cell_type": "code",
   "execution_count": 43,
   "metadata": {},
   "outputs": [],
   "source": [
    "def longestword(list1):\n",
    "    list2=max(list1,key=len)\n",
    "    print(\"The Longest word in the list is:\",list2)"
   ]
  },
  {
   "cell_type": "code",
   "execution_count": 45,
   "metadata": {},
   "outputs": [
    {
     "name": "stdout",
     "output_type": "stream",
     "text": [
      "The Longest word in the list is: Tensorflow\n"
     ]
    }
   ],
   "source": [
    "l=['Anaconda','Python','Tensorflow']\n",
    "longestword(l)"
   ]
  },
  {
   "cell_type": "code",
   "execution_count": null,
   "metadata": {},
   "outputs": [],
   "source": [
    "# 2.1 Write a Python program using function concept that maps list of words into a list of integers\n",
    "# representing the lengths of the corresponding words.\n",
    "# Hint: If a list [ ab,cde,erty] is passed on to the python function output should come as [2,3,4]\n",
    "# Here 2,3 and 4 are the lengths of the words in the list."
   ]
  },
  {
   "cell_type": "code",
   "execution_count": 47,
   "metadata": {},
   "outputs": [],
   "source": [
    "def filter_long_words(word,n): \n",
    "    length=len(word) \n",
    "    if length>n: \n",
    "        str=\"The List of words are longer than the interger\" \n",
    "        print(str) \n",
    "        return word \n",
    "    else: \n",
    "        str=\"The List of words are shorter than the integer\" \n",
    "        return str"
   ]
  },
  {
   "cell_type": "code",
   "execution_count": 50,
   "metadata": {},
   "outputs": [
    {
     "data": {
      "text/plain": [
       "'The List of words are shorter than the integer'"
      ]
     },
     "execution_count": 50,
     "metadata": {},
     "output_type": "execute_result"
    }
   ],
   "source": [
    "filter_long_words(['word','list','new'],5)"
   ]
  },
  {
   "cell_type": "code",
   "execution_count": 49,
   "metadata": {},
   "outputs": [
    {
     "name": "stdout",
     "output_type": "stream",
     "text": [
      "The List of words are longer than the interger\n"
     ]
    },
    {
     "data": {
      "text/plain": [
       "['new', 'few', 'see', 'bee']"
      ]
     },
     "execution_count": 49,
     "metadata": {},
     "output_type": "execute_result"
    }
   ],
   "source": [
    "filter_long_words(['new','few','see','bee'],2)"
   ]
  },
  {
   "cell_type": "code",
   "execution_count": null,
   "metadata": {},
   "outputs": [],
   "source": [
    "# 2.2 Write a Python function which takes a character (i.e. a string of length 1) and returns True if\n",
    "# it is a vowel, False otherwise."
   ]
  },
  {
   "cell_type": "code",
   "execution_count": 60,
   "metadata": {},
   "outputs": [],
   "source": [
    "def vowels():    \n",
    "    print('Please type a letter')    \n",
    "    string=input()    \n",
    "    vowels='a','e','i','o','u'    \n",
    "    print(\"Is this letter a vowel\")    \n",
    "    for v in vowels:        \n",
    "        if v==string:            \n",
    "            print(\"Yes\")            \n",
    "            break\n",
    "    else:\n",
    "            print(\"No\")                 "
   ]
  },
  {
   "cell_type": "code",
   "execution_count": 61,
   "metadata": {},
   "outputs": [
    {
     "name": "stdout",
     "output_type": "stream",
     "text": [
      "Please type a letter\n",
      "a\n",
      "Is this letter a vowel\n",
      "Yes\n"
     ]
    }
   ],
   "source": [
    "vowels()"
   ]
  },
  {
   "cell_type": "code",
   "execution_count": 62,
   "metadata": {},
   "outputs": [
    {
     "name": "stdout",
     "output_type": "stream",
     "text": [
      "Please type a letter\n",
      "y\n",
      "Is this letter a vowel\n",
      "No\n"
     ]
    }
   ],
   "source": [
    "vowels()"
   ]
  }
 ],
 "metadata": {
  "kernelspec": {
   "display_name": "Python 3",
   "language": "python",
   "name": "python3"
  },
  "language_info": {
   "codemirror_mode": {
    "name": "ipython",
    "version": 3
   },
   "file_extension": ".py",
   "mimetype": "text/x-python",
   "name": "python",
   "nbconvert_exporter": "python",
   "pygments_lexer": "ipython3",
   "version": "3.7.4"
  }
 },
 "nbformat": 4,
 "nbformat_minor": 2
}
